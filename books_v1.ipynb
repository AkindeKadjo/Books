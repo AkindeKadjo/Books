{
 "cells": [
  {
   "cell_type": "markdown",
   "id": "d82445f1",
   "metadata": {},
   "source": [
    "Name: Akinde Kadjo"
   ]
  },
  {
   "cell_type": "markdown",
   "id": "f117454b",
   "metadata": {},
   "source": [
    "![png](books_ERD_pic.png)"
   ]
  },
  {
   "cell_type": "code",
   "execution_count": 7,
   "id": "91877616",
   "metadata": {},
   "outputs": [],
   "source": [
    "# imports\n",
    "import pandas as pd\n",
    "from urllib.parse import quote  \n",
    "from sqlalchemy.engine import create_engine\n",
    "import pymysql\n",
    "pymysql.install_as_MySQLdb()\n",
    "from sqlalchemy_utils import create_database, database_exists "
   ]
  },
  {
   "cell_type": "code",
   "execution_count": 14,
   "id": "8788c45b",
   "metadata": {},
   "outputs": [
    {
     "name": "stdout",
     "output_type": "stream",
     "text": [
      "The database already exists\n"
     ]
    }
   ],
   "source": [
    "# connection\n",
    "engine = create_engine('mysql+pymysql://root:%s@localhost:3306/Books' % quote('pwd'))\n",
    "                                                                   \n",
    "# Check if the database exists. If not, create it.\n",
    "if database_exists('mysql+pymysql://root:%s@localhost:3306/Books' % quote('pwd')) == False:\n",
    "  create_database('mysql+pymysql://root:%s@localhost:3306/Books' % quote('pwd'))\n",
    "else:\n",
    "  print('The database already exists')"
   ]
  },
  {
   "cell_type": "code",
   "execution_count": 5,
   "id": "ca6892a9",
   "metadata": {},
   "outputs": [],
   "source": [
    "#Converting our files into Dataframes \n",
    "authors_df = pd.read_csv('authors.csv')\n",
    "books_df = pd.read_csv('books.csv')\n",
    "favorites_df = pd.read_csv('favorites.csv')\n",
    "users_df = pd.read_csv('users.csv')"
   ]
  },
  {
   "cell_type": "code",
   "execution_count": 15,
   "id": "566c30a4",
   "metadata": {},
   "outputs": [
    {
     "data": {
      "text/plain": [
       "3"
      ]
     },
     "execution_count": 15,
     "metadata": {},
     "output_type": "execute_result"
    }
   ],
   "source": [
    "#converting the dataframes to sql tables\n",
    "authors_df.to_sql('authors', engine, if_exists = 'replace')\n",
    "books_df.to_sql('books', engine, if_exists = 'replace')\n",
    "favorites_df.to_sql('favorites', engine, if_exists = 'replace')\n",
    "users_df.to_sql('users', engine, if_exists = 'replace')"
   ]
  },
  {
   "cell_type": "code",
   "execution_count": 16,
   "id": "32b3c238",
   "metadata": {},
   "outputs": [
    {
     "data": {
      "text/html": [
       "<div>\n",
       "<style scoped>\n",
       "    .dataframe tbody tr th:only-of-type {\n",
       "        vertical-align: middle;\n",
       "    }\n",
       "\n",
       "    .dataframe tbody tr th {\n",
       "        vertical-align: top;\n",
       "    }\n",
       "\n",
       "    .dataframe thead th {\n",
       "        text-align: right;\n",
       "    }\n",
       "</style>\n",
       "<table border=\"1\" class=\"dataframe\">\n",
       "  <thead>\n",
       "    <tr style=\"text-align: right;\">\n",
       "      <th></th>\n",
       "      <th>Tables_in_books</th>\n",
       "    </tr>\n",
       "  </thead>\n",
       "  <tbody>\n",
       "    <tr>\n",
       "      <th>0</th>\n",
       "      <td>authors</td>\n",
       "    </tr>\n",
       "    <tr>\n",
       "      <th>1</th>\n",
       "      <td>books</td>\n",
       "    </tr>\n",
       "    <tr>\n",
       "      <th>2</th>\n",
       "      <td>favorites</td>\n",
       "    </tr>\n",
       "    <tr>\n",
       "      <th>3</th>\n",
       "      <td>users</td>\n",
       "    </tr>\n",
       "  </tbody>\n",
       "</table>\n",
       "</div>"
      ],
      "text/plain": [
       "  Tables_in_books\n",
       "0         authors\n",
       "1           books\n",
       "2       favorites\n",
       "3           users"
      ]
     },
     "execution_count": 16,
     "metadata": {},
     "output_type": "execute_result"
    }
   ],
   "source": [
    "q = \"\"\"SHOW TABLES;\"\"\"\n",
    "pd.read_sql(q, engine)"
   ]
  },
  {
   "cell_type": "code",
   "execution_count": 17,
   "id": "3ba02c01",
   "metadata": {},
   "outputs": [
    {
     "data": {
      "text/html": [
       "<div>\n",
       "<style scoped>\n",
       "    .dataframe tbody tr th:only-of-type {\n",
       "        vertical-align: middle;\n",
       "    }\n",
       "\n",
       "    .dataframe tbody tr th {\n",
       "        vertical-align: top;\n",
       "    }\n",
       "\n",
       "    .dataframe thead th {\n",
       "        text-align: right;\n",
       "    }\n",
       "</style>\n",
       "<table border=\"1\" class=\"dataframe\">\n",
       "  <thead>\n",
       "    <tr style=\"text-align: right;\">\n",
       "      <th></th>\n",
       "      <th>title</th>\n",
       "      <th>user_id</th>\n",
       "    </tr>\n",
       "  </thead>\n",
       "  <tbody>\n",
       "    <tr>\n",
       "      <th>0</th>\n",
       "      <td>The Shining</td>\n",
       "      <td>1</td>\n",
       "    </tr>\n",
       "    <tr>\n",
       "      <th>1</th>\n",
       "      <td>It</td>\n",
       "      <td>1</td>\n",
       "    </tr>\n",
       "    <tr>\n",
       "      <th>2</th>\n",
       "      <td>The Great Gatsby</td>\n",
       "      <td>1</td>\n",
       "    </tr>\n",
       "  </tbody>\n",
       "</table>\n",
       "</div>"
      ],
      "text/plain": [
       "              title  user_id\n",
       "0       The Shining        1\n",
       "1                It        1\n",
       "2  The Great Gatsby        1"
      ]
     },
     "execution_count": 17,
     "metadata": {},
     "output_type": "execute_result"
    }
   ],
   "source": [
    "q=\"\"\"\n",
    "SELECT books.title, favorites.user_id\n",
    "FROM books\n",
    "JOIN favorites ON books.id = favorites.book_id\n",
    "WHERE favorites.user_id = \n",
    "    (SELECT users.id FROM users WHERE (users.last_name = \"Doe\" AND users.first_name = \"John\"));\n",
    "\"\"\"\n",
    "pd.read_sql(q, engine)"
   ]
  },
  {
   "cell_type": "code",
   "execution_count": null,
   "id": "95bddd74",
   "metadata": {},
   "outputs": [],
   "source": []
  }
 ],
 "metadata": {
  "kernelspec": {
   "display_name": "Python (dojo-env)",
   "language": "python",
   "name": "dojo-env"
  },
  "language_info": {
   "codemirror_mode": {
    "name": "ipython",
    "version": 3
   },
   "file_extension": ".py",
   "mimetype": "text/x-python",
   "name": "python",
   "nbconvert_exporter": "python",
   "pygments_lexer": "ipython3",
   "version": "3.8.13"
  },
  "toc": {
   "base_numbering": 1,
   "nav_menu": {},
   "number_sections": false,
   "sideBar": true,
   "skip_h1_title": false,
   "title_cell": "Table of Contents",
   "title_sidebar": "Contents",
   "toc_cell": false,
   "toc_position": {},
   "toc_section_display": true,
   "toc_window_display": false
  }
 },
 "nbformat": 4,
 "nbformat_minor": 5
}
